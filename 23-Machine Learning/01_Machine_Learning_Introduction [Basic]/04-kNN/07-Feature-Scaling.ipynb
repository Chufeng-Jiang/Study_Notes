{
 "cells": [
  {
   "cell_type": "markdown",
   "metadata": {},
   "source": [
    "## 07 数据归一化处理"
   ]
  },
  {
   "cell_type": "code",
   "execution_count": 1,
   "metadata": {},
   "outputs": [],
   "source": [
    "import numpy as np\n",
    "import matplotlib.pyplot as plt"
   ]
  },
  {
   "cell_type": "markdown",
   "metadata": {},
   "source": [
    "### 最值归一化 Normalization"
   ]
  },
  {
   "cell_type": "code",
   "execution_count": 2,
   "metadata": {},
   "outputs": [],
   "source": [
    "x = np.random.randint(0, 100, 100) "
   ]
  },
  {
   "cell_type": "code",
   "execution_count": 3,
   "metadata": {},
   "outputs": [
    {
     "data": {
      "text/plain": [
       "array([ 7, 88, 49, 50, 29, 33, 30, 46, 39, 23, 36, 15, 57, 23, 42, 68,  7,\n",
       "       50, 72, 50, 38, 64, 65, 13,  3, 70, 82, 27, 32, 55, 93, 15,  6,  4,\n",
       "       86, 98, 14, 49, 68,  7, 67, 93, 68, 98, 14, 49, 92, 11, 91, 46, 94,\n",
       "       82, 73, 63, 87, 38, 35, 26, 77, 43, 18, 12, 61,  8, 71, 62, 46, 99,\n",
       "       19, 57,  9, 36, 32,  2, 45, 16, 29, 18, 88, 11, 96, 12, 65, 40, 47,\n",
       "       28, 67, 98, 46, 72, 13, 68, 32, 63,  1,  6, 15, 82, 69, 81])"
      ]
     },
     "execution_count": 3,
     "metadata": {},
     "output_type": "execute_result"
    }
   ],
   "source": [
    "x"
   ]
  },
  {
   "cell_type": "code",
   "execution_count": 4,
   "metadata": {},
   "outputs": [
    {
     "data": {
      "text/plain": [
       "array([0.06122449, 0.8877551 , 0.48979592, 0.5       , 0.28571429,\n",
       "       0.32653061, 0.29591837, 0.45918367, 0.3877551 , 0.2244898 ,\n",
       "       0.35714286, 0.14285714, 0.57142857, 0.2244898 , 0.41836735,\n",
       "       0.68367347, 0.06122449, 0.5       , 0.7244898 , 0.5       ,\n",
       "       0.37755102, 0.64285714, 0.65306122, 0.12244898, 0.02040816,\n",
       "       0.70408163, 0.82653061, 0.26530612, 0.31632653, 0.55102041,\n",
       "       0.93877551, 0.14285714, 0.05102041, 0.03061224, 0.86734694,\n",
       "       0.98979592, 0.13265306, 0.48979592, 0.68367347, 0.06122449,\n",
       "       0.67346939, 0.93877551, 0.68367347, 0.98979592, 0.13265306,\n",
       "       0.48979592, 0.92857143, 0.10204082, 0.91836735, 0.45918367,\n",
       "       0.94897959, 0.82653061, 0.73469388, 0.63265306, 0.87755102,\n",
       "       0.37755102, 0.34693878, 0.25510204, 0.7755102 , 0.42857143,\n",
       "       0.17346939, 0.1122449 , 0.6122449 , 0.07142857, 0.71428571,\n",
       "       0.62244898, 0.45918367, 1.        , 0.18367347, 0.57142857,\n",
       "       0.08163265, 0.35714286, 0.31632653, 0.01020408, 0.44897959,\n",
       "       0.15306122, 0.28571429, 0.17346939, 0.8877551 , 0.10204082,\n",
       "       0.96938776, 0.1122449 , 0.65306122, 0.39795918, 0.46938776,\n",
       "       0.2755102 , 0.67346939, 0.98979592, 0.45918367, 0.7244898 ,\n",
       "       0.12244898, 0.68367347, 0.31632653, 0.63265306, 0.        ,\n",
       "       0.05102041, 0.14285714, 0.82653061, 0.69387755, 0.81632653])"
      ]
     },
     "execution_count": 4,
     "metadata": {},
     "output_type": "execute_result"
    }
   ],
   "source": [
    "(x - np.min(x)) / (np.max(x) - np.min(x))"
   ]
  },
  {
   "cell_type": "code",
   "execution_count": 5,
   "metadata": {},
   "outputs": [],
   "source": [
    "X = np.random.randint(0, 100, (50, 2))"
   ]
  },
  {
   "cell_type": "code",
   "execution_count": 6,
   "metadata": {},
   "outputs": [
    {
     "data": {
      "text/plain": [
       "array([[47, 17],\n",
       "       [98, 82],\n",
       "       [58, 65],\n",
       "       [36, 82],\n",
       "       [ 5, 91],\n",
       "       [84, 97],\n",
       "       [90, 15],\n",
       "       [ 8, 61],\n",
       "       [39, 37],\n",
       "       [86, 18],\n",
       "       [42, 86],\n",
       "       [51, 23],\n",
       "       [88, 12],\n",
       "       [79, 51],\n",
       "       [95, 66],\n",
       "       [68,  7],\n",
       "       [38, 43],\n",
       "       [42, 35],\n",
       "       [26, 61],\n",
       "       [10, 61],\n",
       "       [46, 32],\n",
       "       [48, 57],\n",
       "       [ 1, 41],\n",
       "       [54, 55],\n",
       "       [49, 98],\n",
       "       [ 7, 92],\n",
       "       [63, 45],\n",
       "       [90, 91],\n",
       "       [18, 41],\n",
       "       [85, 78],\n",
       "       [50,  3],\n",
       "       [56, 15],\n",
       "       [72, 56],\n",
       "       [12, 60],\n",
       "       [96, 96],\n",
       "       [10, 74],\n",
       "       [89, 76],\n",
       "       [91, 40],\n",
       "       [24,  5],\n",
       "       [47, 37],\n",
       "       [44, 11],\n",
       "       [96, 83],\n",
       "       [76, 92],\n",
       "       [17, 51],\n",
       "       [83, 48],\n",
       "       [21, 68],\n",
       "       [22, 91],\n",
       "       [85, 69],\n",
       "       [ 8, 98],\n",
       "       [29, 71]])"
      ]
     },
     "execution_count": 6,
     "metadata": {},
     "output_type": "execute_result"
    }
   ],
   "source": [
    "X"
   ]
  },
  {
   "cell_type": "code",
   "execution_count": 7,
   "metadata": {},
   "outputs": [],
   "source": [
    "X = np.array(X, dtype=float)"
   ]
  },
  {
   "cell_type": "code",
   "execution_count": 8,
   "metadata": {},
   "outputs": [
    {
     "data": {
      "text/plain": [
       "array([[47., 17.],\n",
       "       [98., 82.],\n",
       "       [58., 65.],\n",
       "       [36., 82.],\n",
       "       [ 5., 91.],\n",
       "       [84., 97.],\n",
       "       [90., 15.],\n",
       "       [ 8., 61.],\n",
       "       [39., 37.],\n",
       "       [86., 18.],\n",
       "       [42., 86.],\n",
       "       [51., 23.],\n",
       "       [88., 12.],\n",
       "       [79., 51.],\n",
       "       [95., 66.],\n",
       "       [68.,  7.],\n",
       "       [38., 43.],\n",
       "       [42., 35.],\n",
       "       [26., 61.],\n",
       "       [10., 61.],\n",
       "       [46., 32.],\n",
       "       [48., 57.],\n",
       "       [ 1., 41.],\n",
       "       [54., 55.],\n",
       "       [49., 98.],\n",
       "       [ 7., 92.],\n",
       "       [63., 45.],\n",
       "       [90., 91.],\n",
       "       [18., 41.],\n",
       "       [85., 78.],\n",
       "       [50.,  3.],\n",
       "       [56., 15.],\n",
       "       [72., 56.],\n",
       "       [12., 60.],\n",
       "       [96., 96.],\n",
       "       [10., 74.],\n",
       "       [89., 76.],\n",
       "       [91., 40.],\n",
       "       [24.,  5.],\n",
       "       [47., 37.],\n",
       "       [44., 11.],\n",
       "       [96., 83.],\n",
       "       [76., 92.],\n",
       "       [17., 51.],\n",
       "       [83., 48.],\n",
       "       [21., 68.],\n",
       "       [22., 91.],\n",
       "       [85., 69.],\n",
       "       [ 8., 98.],\n",
       "       [29., 71.]])"
      ]
     },
     "execution_count": 8,
     "metadata": {},
     "output_type": "execute_result"
    }
   ],
   "source": [
    "X"
   ]
  },
  {
   "cell_type": "code",
   "execution_count": 9,
   "metadata": {},
   "outputs": [
    {
     "data": {
      "text/plain": [
       "array([[47., 17.],\n",
       "       [98., 82.],\n",
       "       [58., 65.],\n",
       "       [36., 82.],\n",
       "       [ 5., 91.],\n",
       "       [84., 97.],\n",
       "       [90., 15.],\n",
       "       [ 8., 61.],\n",
       "       [39., 37.],\n",
       "       [86., 18.]])"
      ]
     },
     "execution_count": 9,
     "metadata": {},
     "output_type": "execute_result"
    }
   ],
   "source": [
    "X[:10,:]"
   ]
  },
  {
   "cell_type": "code",
   "execution_count": 10,
   "metadata": {},
   "outputs": [],
   "source": [
    "X[:,0] = (X[:,0] - np.min(X[:,0])) / (np.max(X[:,0]) - np.min(X[:,0]))\n",
    "X[:,1] = (X[:,1] - np.min(X[:,1])) / (np.max(X[:,1]) - np.min(X[:,1]))"
   ]
  },
  {
   "cell_type": "code",
   "execution_count": 11,
   "metadata": {},
   "outputs": [
    {
     "data": {
      "text/plain": [
       "array([[0.4742268 , 0.14736842],\n",
       "       [1.        , 0.83157895],\n",
       "       [0.58762887, 0.65263158],\n",
       "       [0.36082474, 0.83157895],\n",
       "       [0.04123711, 0.92631579],\n",
       "       [0.8556701 , 0.98947368],\n",
       "       [0.91752577, 0.12631579],\n",
       "       [0.07216495, 0.61052632],\n",
       "       [0.39175258, 0.35789474],\n",
       "       [0.87628866, 0.15789474]])"
      ]
     },
     "execution_count": 11,
     "metadata": {},
     "output_type": "execute_result"
    }
   ],
   "source": [
    "X[:10,:]"
   ]
  },
  {
   "cell_type": "code",
   "execution_count": 12,
   "metadata": {},
   "outputs": [
    {
     "data": {
      "image/png": "[encoded data removed]",
      "text/plain": [
       "<Figure size 640x480 with 1 Axes>"
      ]
     },
     "metadata": {},
     "output_type": "display_data"
    }
   ],
   "source": [
    "plt.scatter(X[:,0], X[:,1])\n",
    "plt.show()"
   ]
  },
  {
   "cell_type": "code",
   "execution_count": 13,
   "metadata": {},
   "outputs": [
    {
     "data": {
      "text/plain": [
       "0.5214432989690722"
      ]
     },
     "execution_count": 13,
     "metadata": {},
     "output_type": "execute_result"
    }
   ],
   "source": [
    "np.mean(X[:,0])"
   ]
  },
  {
   "cell_type": "code",
   "execution_count": 14,
   "metadata": {},
   "outputs": [
    {
     "data": {
      "text/plain": [
       "0.3107394353880469"
      ]
     },
     "execution_count": 14,
     "metadata": {},
     "output_type": "execute_result"
    }
   ],
   "source": [
    "np.std(X[:,0])"
   ]
  },
  {
   "cell_type": "code",
   "execution_count": 15,
   "metadata": {},
   "outputs": [
    {
     "data": {
      "text/plain": [
       "0.5545263157894738"
      ]
     },
     "execution_count": 15,
     "metadata": {},
     "output_type": "execute_result"
    }
   ],
   "source": [
    "np.mean(X[:,1])"
   ]
  },
  {
   "cell_type": "code",
   "execution_count": 16,
   "metadata": {},
   "outputs": [
    {
     "data": {
      "text/plain": [
       "0.2981341050573348"
      ]
     },
     "execution_count": 16,
     "metadata": {},
     "output_type": "execute_result"
    }
   ],
   "source": [
    "np.std(X[:,1])"
   ]
  },
  {
   "cell_type": "markdown",
   "metadata": {},
   "source": [
    "### 均值方差归一化 Standardization"
   ]
  },
  {
   "cell_type": "code",
   "execution_count": 17,
   "metadata": {},
   "outputs": [],
   "source": [
    "X2 = np.random.randint(0, 100, (50, 2))"
   ]
  },
  {
   "cell_type": "code",
   "execution_count": 18,
   "metadata": {},
   "outputs": [],
   "source": [
    "X2 = np.array(X2, dtype=float)"
   ]
  },
  {
   "cell_type": "code",
   "execution_count": 19,
   "metadata": {},
   "outputs": [
    {
     "data": {
      "text/plain": [
       "array([[96., 93.],\n",
       "       [88., 41.],\n",
       "       [38., 19.],\n",
       "       [85., 15.],\n",
       "       [71., 38.],\n",
       "       [64.,  2.],\n",
       "       [39., 11.],\n",
       "       [76., 28.],\n",
       "       [16., 63.],\n",
       "       [81., 72.]])"
      ]
     },
     "execution_count": 19,
     "metadata": {},
     "output_type": "execute_result"
    }
   ],
   "source": [
    "X2[:10,:]"
   ]
  },
  {
   "cell_type": "code",
   "execution_count": 20,
   "metadata": {},
   "outputs": [],
   "source": [
    "X2[:,0] = (X2[:,0] - np.mean(X2[:,0])) / np.std(X2[:,0])\n",
    "X2[:,1] = (X2[:,1] - np.mean(X2[:,1])) / np.std(X2[:,1])"
   ]
  },
  {
   "cell_type": "code",
   "execution_count": 21,
   "metadata": {},
   "outputs": [
    {
     "data": {
      "image/png": "[encoded data removed]",
      "text/plain": [
       "<Figure size 640x480 with 1 Axes>"
      ]
     },
     "metadata": {},
     "output_type": "display_data"
    }
   ],
   "source": [
    "plt.scatter(X2[:,0], X2[:,1])\n",
    "plt.show()"
   ]
  },
  {
   "cell_type": "code",
   "execution_count": 22,
   "metadata": {},
   "outputs": [
    {
     "data": {
      "text/plain": [
       "1.9984014443252817e-17"
      ]
     },
     "execution_count": 22,
     "metadata": {},
     "output_type": "execute_result"
    }
   ],
   "source": [
    "np.mean(X2[:,0])"
   ]
  },
  {
   "cell_type": "code",
   "execution_count": 23,
   "metadata": {},
   "outputs": [
    {
     "data": {
      "text/plain": [
       "0.9999999999999999"
      ]
     },
     "execution_count": 23,
     "metadata": {},
     "output_type": "execute_result"
    }
   ],
   "source": [
    "np.std(X2[:,0])"
   ]
  },
  {
   "cell_type": "code",
   "execution_count": 24,
   "metadata": {},
   "outputs": [
    {
     "data": {
      "text/plain": [
       "2.220446049250313e-18"
      ]
     },
     "execution_count": 24,
     "metadata": {},
     "output_type": "execute_result"
    }
   ],
   "source": [
    "np.mean(X2[:,1])"
   ]
  },
  {
   "cell_type": "code",
   "execution_count": 25,
   "metadata": {},
   "outputs": [
    {
     "data": {
      "text/plain": [
       "0.9999999999999999"
      ]
     },
     "execution_count": 25,
     "metadata": {},
     "output_type": "execute_result"
    }
   ],
   "source": [
    "np.std(X2[:,1])"
   ]
  },
  {
   "cell_type": "code",
   "execution_count": null,
   "metadata": {},
   "outputs": [],
   "source": []
  }
 ],
 "metadata": {
  "kernelspec": {
   "display_name": "Python 3 (ipykernel)",
   "language": "python",
   "name": "python3"
  },
  "language_info": {
   "codemirror_mode": {
    "name": "ipython",
    "version": 3
   },
   "file_extension": ".py",
   "mimetype": "text/x-python",
   "name": "python",
   "nbconvert_exporter": "python",
   "pygments_lexer": "ipython3",
   "version": "3.10.13"
  }
 },
 "nbformat": 4,
 "nbformat_minor": 2
}
