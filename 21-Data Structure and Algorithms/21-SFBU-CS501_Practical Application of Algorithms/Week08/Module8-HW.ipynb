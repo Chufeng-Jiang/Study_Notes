{
 "cells": [
  {
   "cell_type": "markdown",
   "id": "e4f9a104-145e-41ae-b7e2-66fce8d9007c",
   "metadata": {},
   "source": [
    "**Problem1-LeetcodeQ 217-Contains Duplicate-Easy**\n",
    "\n",
    "Given an integer array nums, return true if any value appears at least twice in the array, and return false if every element is distinct.\n",
    "\n",
    "- Example 1:\n",
    "    - Input: nums = [1,2,3,1]\n",
    "    - Output: true\n",
    "\n",
    "- Example 2:\n",
    "    - Input: nums = [1,2,3,4]\n",
    "    - Output: false\n",
    "- Example 3:\n",
    "    - Input: nums = [1,1,1,3,3,4,3,2,4,2]\n",
    "    - Output: true"
   ]
  },
  {
   "cell_type": "markdown",
   "id": "dbd76961-e2bf-4ba5-b8d9-420ed34f4644",
   "metadata": {},
   "source": [
    "# Q217 pseudocode"
   ]
  },
  {
   "cell_type": "code",
   "execution_count": null,
   "id": "4725e92d-efbd-4b00-b265-732659f1c27e",
   "metadata": {},
   "outputs": [],
   "source": [
    "Initialize an empty dictionary numset.\n",
    "\n",
    "Iterate through each element i in the list nums.\n",
    "\n",
    "For each element i:\n",
    "     If i is not in numset:\n",
    "       Add i to numset with a value of 1.\n",
    "     Else:\n",
    "       Return True (indicating a duplicate is found).\n",
    "\n",
    "If the loop completes without finding any duplicates, return False."
   ]
  },
  {
   "cell_type": "markdown",
   "id": "2b637a13-56cc-4bec-9ec9-3f59bf17c99b",
   "metadata": {},
   "source": [
    "# Q217 code"
   ]
  },
  {
   "cell_type": "code",
   "execution_count": 1,
   "id": "a43a7da9-714f-4228-a5fa-b598f90dea9f",
   "metadata": {},
   "outputs": [
    {
     "name": "stdout",
     "output_type": "stream",
     "text": [
      "Input: nums = [1, 1, 1, 3, 3, 4, 3, 2, 4, 2]\n",
      "Output: True\n"
     ]
    }
   ],
   "source": [
    "from typing import List\n",
    "\n",
    "class Solution:\n",
    "    def containsDuplicate(self, nums: List[int]) -> bool:\n",
    "        numset = {}\n",
    "        for i in nums:\n",
    "            if i not in numset:\n",
    "                numset[i] = 1\n",
    "            else:\n",
    "                return True\n",
    "        return False\n",
    "\n",
    "# Test case\n",
    "nums = [1, 1, 1, 3, 3, 4, 3, 2, 4, 2]\n",
    "solution = Solution()\n",
    "output = solution.containsDuplicate(nums)\n",
    "print(f\"Input: nums = {nums}\")\n",
    "print(f\"Output: {output}\")\n"
   ]
  },
  {
   "cell_type": "markdown",
   "id": "343a4a33-9ab6-4be3-be66-abc641e3777a",
   "metadata": {},
   "source": [
    "**Problem2-Leetcode Q 1-Two Sum-Easy**\n",
    "\n",
    "Given an array of integers nums and an integer target, return indices of the two numbers such that they add up to target.\n",
    "\n",
    "You may assume that each input would have exactly one solution, and you may not use the same element twice.\n",
    "\n",
    "You can return the answer in any order.\n",
    "\n",
    "- Example 1:\n",
    "    - Input: nums = [2,7,11,15], target = 9\n",
    "    - Output: [0,1]\n",
    "    - Explanation: Because nums[0] + nums[1] == 9, we return [0, 1].\n",
    "\n",
    "- Example 2:\n",
    "    - Input: nums = [3,2,4], target = 6\n",
    "    - Output: [1,2]\n",
    "\n",
    "- Example 3:\n",
    "    - Input: nums = [3,3], target = 6\n",
    "    - Output: [0,1]\n"
   ]
  },
  {
   "cell_type": "markdown",
   "id": "7609a048-d4ef-4efb-a4c6-b73a1f165036",
   "metadata": {},
   "source": [
    "# Q1 pseudocode"
   ]
  },
  {
   "cell_type": "code",
   "execution_count": null,
   "id": "9a41dafd-7d83-4ca9-b391-5c619008eec1",
   "metadata": {},
   "outputs": [],
   "source": [
    "Initialize an empty dictionary idx.\n",
    "Iterate through each element x in the list nums with its index j.\n",
    "For each element x:\n",
    "    If target - x is in idx: Return the list containing idx[target - x] and j (the indices of the two numbers that add up to target).\n",
    "    Else: Add x to idx with the value j (the index of x).\n",
    "If no such pair is found, return an empty list (though in this problem, a solution is always assumed to exist)."
   ]
  },
  {
   "cell_type": "markdown",
   "id": "58205f02-df71-4b10-81ef-4304025422d1",
   "metadata": {},
   "source": [
    "# Q1 code"
   ]
  },
  {
   "cell_type": "code",
   "execution_count": 5,
   "id": "e5c75226-b2e6-40cc-b297-4eadd75a3c25",
   "metadata": {},
   "outputs": [
    {
     "name": "stdout",
     "output_type": "stream",
     "text": [
      "Input: nums = [3, 2, 4], target = 6\n",
      "Output: [1, 2]\n"
     ]
    }
   ],
   "source": [
    "from typing import List\n",
    "\n",
    "class Solution:\n",
    "    def twoSum(self, nums: List[int], target: int) -> List[int]:\n",
    "        idx = {}  \n",
    "        for j, x in enumerate(nums):  \n",
    "            if target - x in idx:  \n",
    "                return [idx[target - x], j]  \n",
    "            idx[x] = j  \n",
    "\n",
    "# Test case\n",
    "nums = [3, 2, 4]\n",
    "target = 6\n",
    "solution = Solution()\n",
    "output = solution.twoSum(nums, target)\n",
    "print(f\"Input: nums = {nums}, target = {target}\")\n",
    "print(f\"Output: {output}\")"
   ]
  },
  {
   "cell_type": "markdown",
   "id": "91bc475d-dae2-4a99-8d70-3f22c5a2e111",
   "metadata": {},
   "source": [
    "**Problem3-LeetcodeQ 146-LRU Cache-Medium**\n",
    "\n",
    "Design a data structure that follows the constraints of a Least Recently Used (LRU) cache.\n",
    "\n",
    "Implement the LRUCache class:\n",
    "\n",
    "LRUCache(int capacity) Initialize the LRU cache with positive size capacity.\\\n",
    "int get(int key) Return the value of the key if the key exists, otherwise return -1.\\\n",
    "void put(int key, int value) Update the value of the key if the key exists. Otherwise,\\\n",
    "add the key-value pair to the cache. If the number of keys exceeds the capacity from \\\n",
    "this operation, evict the least recently used key.\n",
    "\n",
    "The functions get and put must each run in O(1) average time complexity.\n",
    "\n",
    " \n",
    "\n",
    "- Example 1:\n",
    "\n",
    "    - Input [\"LRUCache\", \"put\", \"put\", \"get\", \"put\", \"get\", \"put\", \"get\", \"get\", \"get\"]\\\n",
    "    [[2], [1, 1], [2, 2], [1], [3, 3], [2], [4, 4], [1], [3], [4]]\n",
    "    - Output\n",
    "    [null, null, null, 1, null, -1, null, -1, 3, 4]\n",
    "\n",
    "    - Explanation\n",
    "        - LRUCache lRUCache = new LRUCache(2);\n",
    "        - lRUCache.put(1, 1); // cache is {1=1}\n",
    "        - lRUCache.put(2, 2); // cache is {1=1, 2=2}\n",
    "        - lRUCache.get(1);    // return 1\n",
    "        - lRUCache.put(3, 3); // LRU key was 2, evicts key 2, cache is {1=1, 3=3}\n",
    "        - lRUCache.get(2);    // returns -1 (not found)\n",
    "        - lRUCache.put(4, 4); // LRU key was 1, evicts key 1, cache is {4=4, 3=3}\n",
    "        - lRUCache.get(1);    // return -1 (not found)\n",
    "        - lRUCache.get(3);    // return 3\n",
    "        - lRUCache.get(4);    // return 4\n"
   ]
  },
  {
   "cell_type": "markdown",
   "id": "806aa60a-5d8a-4fe7-b714-4c025f23aed1",
   "metadata": {},
   "source": [
    "# Q146 Pseudocode"
   ]
  },
  {
   "cell_type": "code",
   "execution_count": null,
   "id": "29da32ed-4789-418a-b942-2007d3e2bdee",
   "metadata": {},
   "outputs": [],
   "source": [
    "Initialize ListNode Class\n",
    "    Initialize key and value attributes.\n",
    "    Initialize prev and next pointers to None.\n",
    "    \n",
    "LRUCache Class\n",
    "Initialize the cache with a given capacity.\n",
    "    Create an empty dictionary hashmap to store key-node pairs.\n",
    "    Create two dummy nodes head and tail.\n",
    "    Link head.next to tail and tail.prev to head.\n",
    "\n",
    "move_node_to_tail Method\n",
    "    Get the node corresponding to the key.\n",
    "    Update the previous node's next to point to the current node's next.\n",
    "    Update the next node's prev to point to the current node's prev.\n",
    "    Move the node to the position before tail.\n",
    "\n",
    "get Method\n",
    "    Check if the key exists in hashmap.\n",
    "    If it does, move the node to the tail.\n",
    "    Return the value of the node if found, otherwise return -1.\n",
    "\n",
    "put Method\n",
    "    If the key exists in hashmap, update its value and move the node to the tail.\n",
    "    If the key doesn't exist:\n",
    "    If the cache is at full capacity, remove the least recently used item (node after head).\n",
    "    Add a new node with the key and value before the tail."
   ]
  },
  {
   "cell_type": "markdown",
   "id": "0f79d17b-b98b-4d81-b99b-72fe6d399f61",
   "metadata": {},
   "source": [
    "# Q146 code"
   ]
  },
  {
   "cell_type": "code",
   "execution_count": 2,
   "id": "fba8d2ca-6485-46ed-ada4-0d9879ab008d",
   "metadata": {},
   "outputs": [
    {
     "name": "stdout",
     "output_type": "stream",
     "text": [
      "Input: ['LRUCache', 'put', 'put', 'get', 'put', 'get', 'put', 'get', 'get', 'get']\n",
      "Arguments: [[2], [1, 1], [2, 2], [1], [3, 3], [2], [4, 4], [1], [3], [4]]\n",
      "Output: [None, None, None, 1, None, -1, None, -1, 3, 4]\n",
      "Expected Output: [None, None, None, 1, None, -1, None, -1, 3, 4]\n",
      "Test Passes: True\n"
     ]
    }
   ],
   "source": [
    "class ListNode:\n",
    "    def __init__(self, key=None, value=None):\n",
    "        self.key = key\n",
    "        self.value = value\n",
    "        self.prev = None\n",
    "        self.next = None\n",
    "\n",
    "class LRUCache:\n",
    "    def __init__(self, capacity: int):\n",
    "        self.capacity = capacity\n",
    "        self.hashmap = {}\n",
    "        self.head = ListNode()\n",
    "        self.tail = ListNode()\n",
    "        self.head.next = self.tail\n",
    "        self.tail.prev = self.head\n",
    "\n",
    "    def move_node_to_tail(self, key):\n",
    "        node = self.hashmap[key]\n",
    "        node.prev.next = node.next\n",
    "        node.next.prev = node.prev\n",
    "        node.prev = self.tail.prev\n",
    "        node.next = self.tail\n",
    "        self.tail.prev.next = node\n",
    "        self.tail.prev = node\n",
    "\n",
    "    def get(self, key: int) -> int:\n",
    "        if key in self.hashmap:\n",
    "            self.move_node_to_tail(key)\n",
    "            return self.hashmap[key].value\n",
    "        return -1\n",
    "\n",
    "    def put(self, key: int, value: int) -> None:\n",
    "        if key in self.hashmap:\n",
    "            self.hashmap[key].value = value\n",
    "            self.move_node_to_tail(key)\n",
    "        else:\n",
    "            if len(self.hashmap) == self.capacity:\n",
    "                lru_node = self.head.next\n",
    "                self.hashmap.pop(lru_node.key)\n",
    "                self.head.next = lru_node.next\n",
    "                lru_node.next.prev = self.head\n",
    "\n",
    "            new_node = ListNode(key, value)\n",
    "            self.hashmap[key] = new_node\n",
    "            new_node.prev = self.tail.prev\n",
    "            new_node.next = self.tail\n",
    "            self.tail.prev.next = new_node\n",
    "            self.tail.prev = new_node\n",
    "\n",
    "# Test case\n",
    "commands = [\"LRUCache\", \"put\", \"put\", \"get\", \"put\", \"get\", \"put\", \"get\", \"get\", \"get\"]\n",
    "arguments = [[2], [1, 1], [2, 2], [1], [3, 3], [2], [4, 4], [1], [3], [4]]\n",
    "expected_output = [None, None, None, 1, None, -1, None, -1, 3, 4]\n",
    "\n",
    "cache = None\n",
    "results = []\n",
    "\n",
    "for command, argument in zip(commands, arguments):\n",
    "    if command == \"LRUCache\":\n",
    "        cache = LRUCache(*argument)\n",
    "        results.append(None)\n",
    "    elif command == \"put\":\n",
    "        cache.put(*argument)\n",
    "        results.append(None)\n",
    "    elif command == \"get\":\n",
    "        result = cache.get(*argument)\n",
    "        results.append(result)\n",
    "\n",
    "print(f\"Input: {commands}\")\n",
    "print(f\"Arguments: {arguments}\")\n",
    "print(f\"Output: {results}\")\n",
    "print(f\"Expected Output: {expected_output}\")\n",
    "print(f\"Test Passes: {results == expected_output}\")"
   ]
  },
  {
   "cell_type": "markdown",
   "id": "8ada9457-ad15-4261-b371-3cc3e476b480",
   "metadata": {},
   "source": [
    "**Problem4-Leetcode Q 705-Design HashSet-Easy**\n",
    "\n",
    "Design a HashSet without using any built-in hash table libraries.\n",
    "\n",
    "Implement MyHashSet class:\n",
    "\n",
    "void add(key) Inserts the value key into the HashSet.\\\n",
    "bool contains(key) Returns whether the value key exists in the HashSet or not.\\\n",
    "void remove(key) Removes the value key in the HashSet. If key does not exist in the HashSet, do nothing.\\\n",
    " \n",
    "\n",
    "- Example 1:\n",
    "\n",
    "    - Input[\"MyHashSet\", \"add\", \"add\", \"contains\", \"contains\", \"add\", \"contains\", \"remove\", \"contains\"]\n",
    "           [[], [1], [2], [1], [3], [2], [2], [2], [2]]\n",
    "    - Output [null, null, null, true, false, null, true, null, false]\n",
    "\n",
    "    - Explanation\n",
    "        - MyHashSet myHashSet = new MyHashSet();\n",
    "        - myHashSet.add(1);      // set = [1]\n",
    "        - myHashSet.add(2);      // set = [1, 2]\n",
    "        - myHashSet.contains(1); // return True\n",
    "        - myHashSet.contains(3); // return False, (not found)\n",
    "        - myHashSet.add(2);      // set = [1, 2]\n",
    "        - myHashSet.contains(2); // return True\n",
    "        - myHashSet.remove(2);   // set = [1]\n",
    "        - myHashSet.contains(2); // return False, (already removed)\n",
    " "
   ]
  },
  {
   "cell_type": "markdown",
   "id": "a322af96-95f9-4855-b2b0-3717c80d6c4d",
   "metadata": {},
   "source": [
    "# Q 705 Pseudocode"
   ]
  },
  {
   "cell_type": "code",
   "execution_count": 4,
   "id": "143e7202-ee58-434e-9f57-0d99c2c912d3",
   "metadata": {},
   "outputs": [
    {
     "ename": "SyntaxError",
     "evalue": "invalid syntax (3812443145.py, line 1)",
     "output_type": "error",
     "traceback": [
      "\u001b[1;36m  Cell \u001b[1;32mIn[4], line 1\u001b[1;36m\u001b[0m\n\u001b[1;33m    MyHashSet Class\u001b[0m\n\u001b[1;37m              ^\u001b[0m\n\u001b[1;31mSyntaxError\u001b[0m\u001b[1;31m:\u001b[0m invalid syntax\n"
     ]
    }
   ],
   "source": [
    "MyHashSet Class\n",
    "Initialize the HashSet with a given number of buckets (default is 1009):\n",
    "\n",
    "If buckets is 1009, create a nested MyHashSet with 37 buckets for each of the 1009 buckets.\n",
    "Otherwise, initialize each bucket as an empty list.\n",
    "\n",
    "Add a key to the HashSet:\n",
    "Call the append method with the given key.\n",
    "Remove a key from the HashSet:\n",
    "\n",
    "Compute the hash of the key using key % buckets.\n",
    "If the key exists in the bucket at the computed hash index, remove it from the bucket.\n",
    "Check if a key is in the HashSet:\n",
    "\n",
    "Return True if the key is in the HashSet, otherwise return False.\n",
    "Append a key to the bucket (helper method):\n",
    "\n",
    "Compute the hash of the key using key % buckets.\n",
    "If the key is not in the bucket at the computed hash index, add it to the bucket.\n",
    "Check if a key is in the HashSet (helper method):\n",
    "\n",
    "Compute the hash of the key using key % buckets.\n",
    "Return True if the key is in the bucket at the computed hash index, otherwise return False."
   ]
  },
  {
   "cell_type": "markdown",
   "id": "b885c49c-35d2-4d55-9b37-d79ee2618023",
   "metadata": {},
   "source": [
    "# Q 705 Code"
   ]
  },
  {
   "cell_type": "code",
   "execution_count": 3,
   "id": "093819d2-0fd4-4835-98cc-67bd34a3cd65",
   "metadata": {},
   "outputs": [
    {
     "name": "stdout",
     "output_type": "stream",
     "text": [
      "Input: ['MyHashSet', 'add', 'add', 'contains', 'contains', 'add', 'contains', 'remove', 'contains']\n",
      "Arguments: [[], [1], [2], [1], [3], [2], [2], [2], [2]]\n",
      "Output: [None, None, None, True, False, None, True, None, False]\n",
      "Expected Output: [None, None, None, True, False, None, True, None, False]\n",
      "Test Passes: True\n"
     ]
    }
   ],
   "source": [
    "class MyHashSet:\n",
    "    def __init__(self, buckets: int = 1009) -> None:\n",
    "        self.buckets = buckets  \n",
    "        if self.buckets == 1009:\n",
    "            self.table = [MyHashSet(37) for _ in range(self.buckets)]\n",
    "        else:\n",
    "            self.table = [[] for _ in range(self.buckets)]\n",
    "\n",
    "    def add(self, key: int) -> None:\n",
    "        self.append(key)\n",
    "\n",
    "    def remove(self, key: int) -> None:\n",
    "        hash_key = key % self.buckets\n",
    "        if key in self.table[hash_key]:\n",
    "            self.table[hash_key].remove(key)\n",
    "\n",
    "    def contains(self, key: int) -> bool:\n",
    "        return key in self\n",
    "\n",
    "    def append(self, key: int) -> None:\n",
    "        hash_key = key % self.buckets\n",
    "        if key not in self.table[hash_key]:\n",
    "            self.table[hash_key].append(key)\n",
    "\n",
    "    def __contains__(self, key: int) -> bool:\n",
    "        hash_key = key % self.buckets\n",
    "        return key in self.table[hash_key]\n",
    "\n",
    "# Test case\n",
    "commands = [\"MyHashSet\", \"add\", \"add\", \"contains\", \"contains\", \"add\", \"contains\", \"remove\", \"contains\"]\n",
    "arguments = [[], [1], [2], [1], [3], [2], [2], [2], [2]]\n",
    "expected_output = [None, None, None, True, False, None, True, None, False]\n",
    "\n",
    "hash_set = None\n",
    "results = []\n",
    "\n",
    "for command, argument in zip(commands, arguments):\n",
    "    if command == \"MyHashSet\":\n",
    "        hash_set = MyHashSet(*argument)\n",
    "        results.append(None)\n",
    "    elif command == \"add\":\n",
    "        hash_set.add(*argument)\n",
    "        results.append(None)\n",
    "    elif command == \"remove\":\n",
    "        hash_set.remove(*argument)\n",
    "        results.append(None)\n",
    "    elif command == \"contains\":\n",
    "        result = hash_set.contains(*argument)\n",
    "        results.append(result)\n",
    "\n",
    "print(f\"Input: {commands}\")\n",
    "print(f\"Arguments: {arguments}\")\n",
    "print(f\"Output: {results}\")\n",
    "print(f\"Expected Output: {expected_output}\")\n",
    "print(f\"Test Passes: {results == expected_output}\")"
   ]
  },
  {
   "cell_type": "code",
   "execution_count": null,
   "id": "52e1111a-1707-4559-867d-23ac2955d4eb",
   "metadata": {},
   "outputs": [],
   "source": []
  },
  {
   "cell_type": "markdown",
   "id": "75c4e8a2-eef2-4c4d-8bbb-54f2374ad689",
   "metadata": {},
   "source": [
    "**Problem5-Leetcode Q 706- Design HashMap-Easy**\n",
    "\n",
    "Design a HashMap without using any built-in hash table libraries.\n",
    "\n",
    "Implement the MyHashMap class:\n",
    "\n",
    "MyHashMap() initializes the object with an empty map.\\\n",
    "void put(int key, int value) inserts a (key, value) pair into the HashMap.\\\n",
    "If the key already exists in the map, update the corresponding value.\n",
    "int get(int key) returns the value to which the specified key is mapped,\\\n",
    "or -1 if this map contains no mapping for the key.\\\n",
    "void remove(key) removes the key and its corresponding value\\\n",
    "if the map contains the mapping for the key.\n",
    " \n",
    "\n",
    "- Example 1:\n",
    "\n",
    "    - Input [\"MyHashMap\", \"put\", \"put\", \"get\", \"get\", \"put\", \"get\", \"remove\", \"get\"]\\\n",
    "          [[], [1, 1], [2, 2], [1], [3], [2, 1], [2], [2], [2]]\n",
    "    - Output [null, null, null, 1, -1, null, 1, null, -1]\n",
    "\n",
    "    - Explanation\n",
    "        - MyHashMap myHashMap = new MyHashMap();\n",
    "        - myHashMap.put(1, 1); // The map is now [[1,1]]\n",
    "        - myHashMap.put(2, 2); // The map is now [[1,1], [2,2]]\n",
    "        - myHashMap.get(1);    // return 1, The map is now [[1,1], [2,2]]\n",
    "        - myHashMap.get(3);    // return -1 (i.e., not found), The map is now [[1,1], [2,2]]\n",
    "        - myHashMap.put(2, 1); // The map is now [[1,1], [2,1]] (i.e., update the existing value)\n",
    "        - myHashMap.get(2);    // return 1, The map is now [[1,1], [2,1]]\n",
    "        - myHashMap.remove(2); // remove the mapping for 2, The map is now [[1,1]]\n",
    "        - myHashMap.get(2);    // return -1 (i.e., not found), The map is now [[1,1]]\n"
   ]
  },
  {
   "cell_type": "markdown",
   "id": "482b2887-c8a0-4a1c-a5a8-7533af89b391",
   "metadata": {},
   "source": [
    "# Q 706 Pseudocode"
   ]
  },
  {
   "cell_type": "code",
   "execution_count": null,
   "id": "23cca146-f1fc-475e-898f-c3ac2c8b4eea",
   "metadata": {},
   "outputs": [],
   "source": [
    "Initialize the HashMap:\n",
    "\n",
    "Create a list of empty lists called hash with 20011 buckets.\n",
    "Put a key-value pair into the HashMap:\n",
    "\n",
    "Compute the hash index t using key % 20011.\n",
    "Iterate through the bucket at index t to find if the key already exists.\n",
    "If the key exists, update its value.\n",
    "If the key does not exist, append the key-value pair to the bucket.\n",
    "Get the value associated with a key from the HashMap:\n",
    "\n",
    "Compute the hash index t using key % 20011.\n",
    "Iterate through the bucket at index t to find the key.\n",
    "If the key is found, return its value.\n",
    "If the key is not found, return -1.\n",
    "Remove a key-value pair from the HashMap:\n",
    "\n",
    "Compute the hash index t using key % 20011.\n",
    "Iterate through the bucket at index t to find the key.\n",
    "If the key is found, remove the key-value pair from the bucket."
   ]
  },
  {
   "cell_type": "markdown",
   "id": "a0a7cdbf-d44d-4003-bbc6-b697085870b9",
   "metadata": {},
   "source": [
    "# Q 706 Code"
   ]
  },
  {
   "cell_type": "code",
   "execution_count": 7,
   "id": "eb06ea26-9d82-4cae-bc44-401a519d5208",
   "metadata": {},
   "outputs": [
    {
     "name": "stdout",
     "output_type": "stream",
     "text": [
      "Input: ['MyHashMap', 'put', 'put', 'get', 'get', 'put', 'get', 'remove', 'get']\n",
      "Arguments: [[], [1, 1], [2, 2], [1], [3], [2, 1], [2], [2], [2]]\n",
      "Output: [None, None, None, 1, -1, None, 1, None, -1]\n",
      "Expected Output: [None, None, None, 1, -1, None, 1, None, -1]\n",
      "Test Passes: True\n"
     ]
    }
   ],
   "source": [
    "class MyHashMap:\n",
    "    def __init__(self):\n",
    "        self.hash = [[] for _ in range(20011)]  \n",
    "\n",
    "    def put(self, key: int, value: int) -> None:\n",
    "        t = key % 20011\n",
    "        for item in self.hash[t]:  \n",
    "            if item[0] == key:\n",
    "                item[1] = value\n",
    "                return  \n",
    "        self.hash[t].append([key, value])  \n",
    "\n",
    "    def get(self, key: int) -> int:\n",
    "        t = key % 20011\n",
    "        for item in self.hash[t]:\n",
    "            if item[0] == key:\n",
    "                return item[1]\n",
    "        return -1  \n",
    "\n",
    "    def remove(self, key: int) -> None:\n",
    "        t = key % 20011\n",
    "        delete = []\n",
    "        for item in self.hash[t]:\n",
    "            if item[0] == key:\n",
    "                delete = item  \n",
    "        if delete:\n",
    "            self.hash[t].remove(delete)\n",
    "\n",
    "# Test case\n",
    "commands = [\"MyHashMap\", \"put\", \"put\", \"get\", \"get\", \"put\", \"get\", \"remove\", \"get\"]\n",
    "arguments = [[], [1, 1], [2, 2], [1], [3], [2, 1], [2], [2], [2]]\n",
    "expected_output = [None, None, None, 1, -1, None, 1, None, -1]\n",
    "\n",
    "hash_map = None\n",
    "results = []\n",
    "\n",
    "for command, argument in zip(commands, arguments):\n",
    "    if command == \"MyHashMap\":\n",
    "        hash_map = MyHashMap()\n",
    "        results.append(None)\n",
    "    elif command == \"put\":\n",
    "        hash_map.put(*argument)\n",
    "        results.append(None)\n",
    "    elif command == \"get\":\n",
    "        result = hash_map.get(*argument)\n",
    "        results.append(result)\n",
    "    elif command == \"remove\":\n",
    "        hash_map.remove(*argument)\n",
    "        results.append(None)\n",
    "\n",
    "print(f\"Input: {commands}\")\n",
    "print(f\"Arguments: {arguments}\")\n",
    "print(f\"Output: {results}\")\n",
    "print(f\"Expected Output: {expected_output}\")\n",
    "print(f\"Test Passes: {results == expected_output}\")\n"
   ]
  },
  {
   "cell_type": "code",
   "execution_count": null,
   "id": "199f1c2f-fbbe-4825-8b0c-669bcfa54391",
   "metadata": {},
   "outputs": [],
   "source": []
  }
 ],
 "metadata": {
  "kernelspec": {
   "display_name": "Python 3 (ipykernel)",
   "language": "python",
   "name": "python3"
  },
  "language_info": {
   "codemirror_mode": {
    "name": "ipython",
    "version": 3
   },
   "file_extension": ".py",
   "mimetype": "text/x-python",
   "name": "python",
   "nbconvert_exporter": "python",
   "pygments_lexer": "ipython3",
   "version": "3.11.7"
  }
 },
 "nbformat": 4,
 "nbformat_minor": 5
}
